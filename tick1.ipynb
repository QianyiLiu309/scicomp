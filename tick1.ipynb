{
 "cells": [
  {
   "cell_type": "markdown",
   "metadata": {},
   "source": [
    "# Tick 1 (optional)"
   ]
  },
  {
   "cell_type": "markdown",
   "metadata": {},
   "source": [
    "# Python warmup exercises (not assessed)<span id=\"notes1\"></span>\n",
    "\n",
    "<div class=\"alert alert-warning\">\n",
    "    These are optional warmup exercises, to get you used to Python coding. \n",
    "    </div>\n",
    "    \n",
    "Use the following autograder settings:\n",
    "```\n",
    "import ucamcl\n",
    "GRADER = ucamcl.autograder('https://markmy.solutions', course='scicomp').subsection('notes1')\n",
    "```\n",
    "Each question has a label (in brackets). Call `fetch_question` to see a model answer.\n",
    "```\n",
    "q = GRADER.fetch_question('ex1')\n",
    "# view the answer\n",
    "print(q)\n",
    "```"
   ]
  },
  {
   "cell_type": "markdown",
   "metadata": {},
   "source": [
    "**Exercise (ex1)** from section 1.2.1. In Python, how do you ...\n",
    "\n",
    "* calculate the base 10 logarithm of 1200\n",
    "* calculate the tangent of 60 degrees\n",
    "* calculate the square root of -20"
   ]
  },
  {
   "cell_type": "markdown",
   "metadata": {},
   "source": [
    "**Exercise (ex2)** from section 1.3.1. What is the difference between the two commented lines? Do they give the same result?\n",
    "```\n",
    "a = [1, 2, 'buckle my shoe']\n",
    "b = (a, 3, 4, 'knock at the door')\n",
    "# b[0].append('then')\n",
    "# b[0] = a + ['then']\n",
    "print(a, b)\n",
    "```"
   ]
  },
  {
   "cell_type": "markdown",
   "metadata": {},
   "source": [
    "**Exercise (ex3)** from section 1.3.4. If you go overboard with list comprehensions, your code becomes unreadable. What does the following code do? Here `rooms` is from the code in section 1.3.4.\n",
    "```\n",
    "'\\n'.join(['Room {r} has {', '.join(occs)}}' \n",
    "          for r,occs in rooms.items() if r is not None])\n",
    "```"
   ]
  },
  {
   "cell_type": "markdown",
   "metadata": {},
   "source": [
    "**Exercise (ex4)** from section 1.3.5. Write a single line of code to sort the names in this list\n",
    "```\n",
    "names = ['adrian', 'chloe', 'guarav', 'shay', 'alexis', 'rebecca', 'zubin']\n",
    "```\n",
    "by length, breaking ties alphabetically, using list comprehension. \n",
    "\n",
    "_Hint: make a list of `(len(name), name)` then sort it,\n",
    "where `len(s)` gives the length of a string. When\n",
    "Python sorts a list of tuples, it uses [lexicographic ordering](https://en.wikipedia.org/wiki/Lexicographical_order)._"
   ]
  },
  {
   "cell_type": "markdown",
   "metadata": {},
   "source": [
    "**Exercise (ex5)** from section 1.3.5. Let $x$ be a list of numbers. Give a one-line expression to find the number of unique elements in $x$. _Hint: use a dictionary comprehension to create a dictionary whose keys are elements of $x$._"
   ]
  },
  {
   "cell_type": "markdown",
   "metadata": {},
   "source": [
    "**Exercise (ex6)** from section 1.4.1<a name=\"lindley\"></a>. A simple queue can be simulated by the following equations. Let $q_t$ be the queue size just before timestep $t$, let the service rate be $C$, and let $a_t$ be the amount of work arriving at timestep $t$. Then\n",
    "$$\n",
    "q_{t+1} = \\max(q_t + a_t - C, 0).\n",
    "$$\n",
    "This is called Lindley's Recursion.\n",
    "Write a function `sim(q0,C,a)` to compute the queue sizes. It should accept\n",
    "an initial queue size `q0` and a list `a` consisting of $[a_0,a_1,\\dots,a_{t-1}]$,\n",
    "and it should return a list $[q_1,\\dots,q_t]$.\n",
    "For example, \n",
    "```\n",
    "sim(1, 3, [4, 1, 2, 8, 2, 3, 1])\n",
    "```\n",
    "should produce the answer\n",
    "```\n",
    "[2, 0, 0, 5, 4, 4, 2]\n",
    "```"
   ]
  },
  {
   "cell_type": "markdown",
   "metadata": {},
   "source": [
    "**Exercise (ex7)** from sections 1.4.1 and 1.4.4. We can represent a tree as a nested list, for example\n",
    "```\n",
    "x = [1,[[2,4,3],9],[5,[6,7],8]]\n",
    "```\n",
    "Define a function `maptree(f, x)` which applies a function `f` to every leaf of the tree.\n",
    "\n",
    "<img src=\"res/tree.svg\" style=\"height:7em\"></img>"
   ]
  }
 ],
 "metadata": {
  "kernelspec": {
   "display_name": "Python 3",
   "language": "python",
   "name": "python3"
  },
  "language_info": {
   "codemirror_mode": {
    "name": "ipython",
    "version": 3
   },
   "file_extension": ".py",
   "mimetype": "text/x-python",
   "name": "python",
   "nbconvert_exporter": "python",
   "pygments_lexer": "ipython3",
   "version": "3.8.5"
  }
 },
 "nbformat": 4,
 "nbformat_minor": 4
}
