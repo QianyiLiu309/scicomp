{
 "cells": [
  {
   "cell_type": "markdown",
   "metadata": {},
   "source": [
    "## Contents\n",
    "\n",
    "* [**Python warmup exercises (not assessed)**](#ex0)\n",
    "* [**NumPy warmup exercises (not assessed)**](#ex1)\n",
    "* [**Assignment 2a**](#ass2a)\n",
    "* [**Assignment 2b**](#ass2b)\n",
    "* [**Further investigation (not assessed)**](#ex2)"
   ]
  },
  {
   "cell_type": "markdown",
   "metadata": {},
   "source": [
    "# Python warmup exercises (not assessed)<span id=\"ex0\"></span>\n",
    "\n",
    "These are optional warmup exercises, to get you used to Python coding. Use the following autograder settings:\n",
    "```\n",
    "import ucamcl\n",
    "GRADER = ucamcl.autograder('https://markmy.solutions', course='scicomp').subsection('notes1')\n",
    "```\n",
    "Each question has a label (in brackets) that you should use when fetching the question.\n",
    "```\n",
    "q = GRADER.fetch_question('ex1')\n",
    "# view the question text / instructions\n",
    "print(q)\n",
    "\n",
    "my_ans = ...\n",
    "GRADER.submit_answer(q, my_ans)\n",
    "```\n",
    "When you submit an answer, you'll also be shown a model answer."
   ]
  },
  {
   "cell_type": "markdown",
   "metadata": {},
   "source": [
    "**Exercise (ex1)** from section 1.2.1\n",
    "\n",
    "* Calculate the base 10 logarithm of 1200\n",
    "* Calculate the tangent of 60 degrees\n",
    "* Calculate the square root of -20"
   ]
  },
  {
   "cell_type": "markdown",
   "metadata": {},
   "source": [
    "**Exercise (ex2)** from section 1.3.1. What is the difference between the two commented lines? Do they give the same result?\n",
    "<pre style=\"background-color:inherit\">\n",
    "a = [1, 2, 'buckle my shoe']\n",
    "b = (a, 3, 4, 'knock at the door')\n",
    "# b[0].append('then')\n",
    "# b[0] = a + ['then']\n",
    "print(a, b)\n",
    "</pre>"
   ]
  },
  {
   "cell_type": "markdown",
   "metadata": {},
   "source": [
    "**Exercise (ex3)** from section 1.3.4. If you go overboard with list comprehensions, your code becomes unreadable. What does the following code do? Here `rooms` is from the code in section 1.3.4.\n",
    "```\n",
    "'\\n'.join(['Room {r} has {', '.join(occs)}}' \n",
    "          for r,occs in rooms.items() if r is not None])\n",
    "```"
   ]
  },
  {
   "cell_type": "markdown",
   "metadata": {},
   "source": [
    "**Exercise (ex4)** from section 1.3.5. Write a single line of code to sort the names in this list\n",
    "```\n",
    "names = ['adrian', 'chloe', 'guarav', 'shay', 'alexis', 'rebecca', 'zubin']\n",
    "```\n",
    "by length, breaking ties alphabetically, using list comprehension. \n",
    "\n",
    "_Hint: make a list of `(len(name), name)` then sort it,\n",
    "where `len(s)` gives the length of a string. When\n",
    "Python sorts a list of tuples, it uses [lexicographic ordering](https://en.wikipedia.org/wiki/Lexicographical_order)._"
   ]
  },
  {
   "cell_type": "markdown",
   "metadata": {},
   "source": [
    "**Exercise (ex5)** from section 1.3.5. Let $x$ be a list of numbers. Give a one-line expression to find the number of unique elements in $x$. _Hint: use a dictionary comprehension to create a dictionary whose keys are elements of $x$._"
   ]
  },
  {
   "cell_type": "markdown",
   "metadata": {},
   "source": [
    "**Exercise (ex6)** from section 1.4.1<a name=\"lindley\"></a>. A simple queue can be simulated by the following equations. Let $q_t$ be the queue size just before timestep $t$, let the service rate be $C$, and let $a_t$ be the amount of work arriving at timestep $t$. Then\n",
    "$$\n",
    "q_{t+1} = \\max(q_t + a_t - C, 0).\n",
    "$$\n",
    "This is called Lindley's Recursion.\n",
    "Write a function `sim(q0,C,a)` to compute the queue sizes. It should accept\n",
    "an initial queue size `q0` and a list `a` consisting of $[a_0,a_1,\\dots,a_{t-1}]$,\n",
    "and it should return a list $[q_1,\\dots,q_t]$.\n",
    "For example, \n",
    "```\n",
    "sim(1, 3, [4, 1, 2, 8, 2, 3, 1])\n",
    "```\n",
    "should produce the answer\n",
    "```\n",
    "[2, 0, 0, 5, 4, 4, 2]\n",
    "```"
   ]
  },
  {
   "cell_type": "markdown",
   "metadata": {},
   "source": [
    "**Exercise (ex7)** from sections 1.4.1 and 1.4.4. We can represent a tree as a nested list, for example\n",
    "```\n",
    "x = [1,[[2,4,3],9],[5,[6,7],8]]\n",
    "```\n",
    "Define a function `maptree(f, x)` which applies a function `f` to every leaf of the tree.\n",
    "\n",
    "<img src=\"res/tree.svg\" style=\"height:7em\"></img>"
   ]
  },
  {
   "cell_type": "markdown",
   "metadata": {},
   "source": [
    "# NumPy warmup exercises (not assessed)<span id=\"ex1\"></span>\n",
    "\n",
    "These are optional warmup exercises, to get you used to numpy. Use the following autograder settings:\n",
    "\n",
    "```\n",
    "import ucamcl\n",
    "GRADER = ucamcl.autograder('https://markmy.solutions', course='scicomp').subsection('notes2')\n",
    "```\n",
    "As with the Python warmup exercises, use the code in brackets to fetch the question, to submit your answer, and to see a model answer."
   ]
  },
  {
   "cell_type": "markdown",
   "metadata": {},
   "source": [
    "**Exercise (ex1)** from section 2.2.2. Here is some standard Python code:\n",
    "```\n",
    "import math, random\n",
    "x = random.uniform(-1, 1)\n",
    "y = random.uniform(-1, 1)\n",
    "d = math.sqrt(x**2 + y**2)\n",
    "```\n",
    "We'd like to repeat this a million times, and find the mean and standard deviation of the `d` values. Implement this using numpy vectorized code."
   ]
  },
  {
   "cell_type": "markdown",
   "metadata": {},
   "source": [
    "**Exercise (ex2)** from section 2.3. For a numpy matrix `a`, what is the relationship between `a.shape` and `len(a)`?"
   ]
  },
  {
   "cell_type": "markdown",
   "metadata": {},
   "source": [
    "**Exercise (ex3)** from section 2.3. Look up the numpy help for `np.arange` and `np.reshape`, and use these functions to produce the $3\\times5$ matrix\n",
    "$$\n",
    "b = \\left( \\begin{matrix} \n",
    "1 & 2 & 3 & 4 & 5\\\\\n",
    "6 & 7 & 8 & 9 & 10\\\\\n",
    "11 & 12 & 13 & 14 & 15\n",
    "\\end{matrix} \\right)\n",
    "$$\n",
    "\n",
    "Look up the help for `np.sum`, and compute the length-5 vector of column sums and the length-3 vector of row sums."
   ]
  },
  {
   "cell_type": "markdown",
   "metadata": {},
   "source": [
    "**Exercise (ex4)** from section 2.3. Find two different ways to use numpy to create the column vector\n",
    "`[[1],[2],...,[n]]`."
   ]
  },
  {
   "cell_type": "markdown",
   "metadata": {},
   "source": [
    "**Exercise (ex5)** from section 2.3. A [permutation matrix](https://en.wikipedia.org/wiki/Permutation_matrix) is a square matrix of 0s and 1s,\n",
    "where each row contains exactly one 1, and each column likewise. (The code snippet in section 2.3 of notes, for 'advanced indexing', creates a $3\\times3$ permutation matrix.)\n",
    "\n",
    "Write code to generate a random $n\\times n$ permutation matrix."
   ]
  },
  {
   "cell_type": "markdown",
   "metadata": {},
   "source": [
    "**Exercise (ex6)** from section 2.2.2. In a [previous exercise](#lindley) you wrote a Pythonic simulator for a queue, based on the recursion\n",
    "$$\n",
    "q_{t+1} = \\max(q_t + a_t - C, 0).\n",
    "$$\n",
    "It can be proved that another way to get the same answer is with the formula\n",
    "$$\n",
    "q_t = q_0 + x_t - \\min(0, y_t)\n",
    "$$\n",
    "where\n",
    "$$\n",
    "x_t = \\sum_{u=0}^{t-1} (a_u-C)\n",
    "\\quad\\text{and}\\quad\n",
    "y_t = \\min_{1 \\leq u \\leq t} (q_0 + x_u).\n",
    "$$\n",
    "Given a vector $a=[a_0,a_1,\\dots,a_{t-1}]$,\n",
    "* compute $x=[x_1,x_2,\\dots,x_t]$ using [`np.cumsum`](https://docs.scipy.org/doc/numpy/reference/generated/numpy.cumsum.html)\n",
    "* compute $y=[y_1,y_2,\\dots,y_t]$ using \n",
    "[`np.ufunc.accumulate`](https://docs.scipy.org/doc/numpy/reference/generated/numpy.ufunc.accumulate.html)\n",
    "* compute $q=[q_1,q_2,\\dots,q_t]$, and check your answer against your Pythonic code."
   ]
  },
  {
   "cell_type": "markdown",
   "metadata": {},
   "source": [
    "**Exercise (ex7)** from section 2.4\n",
    "\n",
    "When we used numerical optimization in section 2.4, to find the minimum of\n",
    "$$\n",
    "f(x) = x + -3 x^2 + x^4,\n",
    "$$\n",
    "we used the initial guess $x_0=0.5$ and found the local minimum at $x=1.13$.\n",
    "Now, we'll look for a global minimum. It's good practice to search the parameter space\n",
    "randomly, to avoid [Moiré effects](https://en.wikipedia.org/wiki/Moir%C3%A9_pattern).\n",
    "* Create a vector `x` consisting of values randomly chosen in the interval $[-2,2]$\n",
    "* Create a vector `optx` containing the result of running `scipy.optimize.fmin`starting at each of the `x` values.\n",
    "* Plot your answers with `plt.plot(x, optx, marker='o')`. \n",
    "\n",
    "_You can turn off the diagnostic output with the option\n",
    "`fmin(disp=False)`. You'll need to sort the points before plotting, else the line will go back and forth across the plot._"
   ]
  },
  {
   "cell_type": "markdown",
   "metadata": {},
   "source": [
    "# Assignment 2a. Econophysics simulator<span id=\"ass2a\"></span>\n",
    "\n",
    "This section is worth 1 mark. Use these autograder settings:\n",
    "```\n",
    "GRADER = ucamcl.autograder('https://markmy.solutions', course='scicomp').subsection('assignment2a')\n",
    "```\n",
    "\n",
    "<div class=\"alert alert-warning\">This assignment tests your vectorized thinking. You will be asked to run simulations on a population of hundreds of thousands of individuals, over many timesteps. <strong>YOUR CODE MUST USE NUMPY VECTORIZED OPERATIONS</strong> rather than iterating over the population. You may use Python iteration over timesteps."
   ]
  },
  {
   "cell_type": "markdown",
   "metadata": {},
   "source": [
    "## Introduction\n",
    "\n",
    "Economic inequality is one of the defining social issues of our age. Yet we have a poor grasp of the scale of inequality,\n",
    "as [described in Scientific American](https://www.scientificamerican.com/article/economic-inequality-it-s-far-worse-than-you-think/) \n",
    "and nicely shown in [this video](https://www.youtube.com/watch?v=QPKKQnijnsM):\n",
    "[<img src=\"res/inequality.png\" style=\"height:16em\">](https://www.youtube.com/watch?v=QPKKQnijnsM)\n",
    "\n",
    "How does inequality arise? Is it an inevitable outcome of liberal economics, and if so how can it be  mitigated by economic policy? These questions [have been studied by economists](https://link.springer.com/article/10.1140/epjst/e2016-60162-3) and more recently \n",
    "[by](https://phys.org/news/2007-04-world-economies-similarities-economic-inequality.html)\n",
    "[physicists](https://arxiv.org/abs/1606.06051).\n",
    "In this assignment you will investigate a simple \"econophysics\" model of inequality. The notes for [&sect;2](2.%20Numerical%20computation.ipynb) suggest ways to take the investigation further.\n",
    "\n",
    "Here is a simple model. There are $N$ individuals in the population, each with an initial wealth of &pound;1. Every timestep, we randomly group them into $N/2$ pairs. (Assume $N$ is even.) For every pair, we simulate an economic exchange, as follows. Let the two paired individuals have wealth $v$ and $w$, and update their wealth according to\n",
    "$$\n",
    "v_{\\text{new}} = R(v+w),\n",
    "\\quad\n",
    "w_{\\text{new}} = (1-R)(v+w)\n",
    "$$\n",
    "where $R$ is a random number in $[0,1]$, chosen independently for every pair and at every timestep.\n",
    "This model is loosely inspired by the physics of gases, in which two gas molecules exchange a random amount of energy whenever they collide.\n",
    "\n",
    "We can measure inequality with the [Gini coefficient](https://en.wikipedia.org/wiki/Gini_coefficient),\n",
    "$$\n",
    "G = 2\\frac{\\sum_{i=1}^N i\\, w_{(i)}}{N \\sum_i w_{(i)}} - \\Big(1 + \\frac{1}{N}\\Bigr)\n",
    "$$\n",
    "where $w_{(1)}$ is the smallest value, $w_{(2)}$ the second smallest etc. If everyone has the same wealth then $G=0$; if one person has all the wealth then $G=1-1/N$."
   ]
  },
  {
   "cell_type": "markdown",
   "metadata": {},
   "source": [
    "## Questions\n",
    "\n",
    "**Question 1.** The model needs us to randomly group the population into $N/2$ pairs. \n",
    "We can do this by randomly permuting the vector $[0,...,N-1]$, letting the vector `m1` consist of the first $N/2$ integers and `m2` consist of the rest, and interpreting it as \"`m1[i]` is paired with `m2[i]`\".\n",
    "\n",
    "Write a function `pairs(N)` that returns a tuple `(m1,m2)` where `m1` and `m2` are both vectors of length $N/2$ as described above. For example, if you run `pairs(6)`, you might get the output\n",
    "\n",
    "> `(array[(3, 0, 1]), array([2, 4, 5]))`\n",
    "\n",
    "```\n",
    "# Submitting your answer:\n",
    "q = GRADER.fetch_question('q1')\n",
    "m1,m2 = pairs(q.n)\n",
    "ans = {'n': len(np.unique(np.concatenate([m1,m2]))), 's': np.std(np.abs(m1-m2))}\n",
    "GRADER.submit_answer(q, ans)\n",
    "```"
   ]
  },
  {
   "cell_type": "markdown",
   "metadata": {},
   "source": [
    "**Question 2.** Write a function `kinetic_exchange(v,w)` which takes two wealth vectors `v` and `w`, each of length $N/2$, and returns a tuple `(vnew, wnew)` with two new vectors, according to the kinetic exchange model.\n",
    "```\n",
    "# Submitting your answer:\n",
    "q = GRADER.fetch_question('q2')\n",
    "v,w = np.linspace(1,5,q.n), np.linspace(1,2,q.n)**q.p\n",
    "vnew,wnew = kinetic_exchange(v,w)\n",
    "ans = {'m1': np.mean(vnew), 's2': np.std(wnew)}\n",
    "GRADER.submit_answer(q, ans)\n",
    "```"
   ]
  },
  {
   "cell_type": "markdown",
   "metadata": {},
   "source": [
    "**Question 3.** Write a function `gini(w)` which takes a vector `w` and returns the Gini coefficient.\n",
    "```\n",
    "# Submitting your answer:\n",
    "q = GRADER.fetch_question('q3')\n",
    "w = np.linspace(0,1,q.n)**q.p\n",
    "g = gini(w)\n",
    "GRADER.submit_answer(q, {'g': g})\n",
    "```"
   ]
  },
  {
   "cell_type": "markdown",
   "metadata": {},
   "source": [
    "**Question 4.** Write a function `sim(N, T)` which runs the kinetic exchange model on a population of $N$ individuals for $T$ timesteps. It should return a pair `(w, gs)` where `w` is the wealth vector after $T$ timesteps, and `gs` is a length $T$ vector where `gs[i]` is the Gini coefficient at timestep $i$.\n",
    "```\n",
    "# Submitting your answer:\n",
    "q = GRADER.fetch_question('q4')\n",
    "w,gs = sim(q.n, q.t)\n",
    "ans = {'gm': np.mean(gs[int(q.t/2):]), 'gs': np.std(gs[int(q.t/2):]), 'ws': np.std(w)}\n",
    "GRADER.submit_answer(q, ans)\n",
    "```"
   ]
  },
  {
   "cell_type": "markdown",
   "metadata": {},
   "source": [
    "**Question 5.** Simulate a population of 500,000 over 30 iterations. Plot the Gini coefficient as a function of timestep.\n",
    "To be precise, if $w_t$ is the wealth vector after $t$ timesteps then you should plot $\\textsf{gini}(w_t)$ on the $y$-axis and $t$ on the $x$-axis..\n",
    "(You don't have to submit your plot, but it may be assessed in the ticking session.) Your plot should look something like this:\n",
    "\n",
    "![gini coefficient](res/ass2_q5.png)"
   ]
  },
  {
   "cell_type": "markdown",
   "metadata": {},
   "source": [
    "# Assignment 2b. Economic mobility<span id=\"ass2b\"></span>\n",
    "\n",
    "This section is worth 1 mark. Use these autograder settings:\n",
    "```\n",
    "GRADER = ucamcl.autograder('https://markmy.solutions', course='scicomp').subsection('assignment2b')\n",
    "```\n",
    "\n",
    "<div class=\"alert alert-warning\">This assignment tests your vectorized thinking. You will be asked to run simulations on a population of hundreds of thousands of individuals, over many timesteps. <strong>YOUR CODE MUST USE NUMPY VECTORIZED OPERATIONS</strong> rather than iterating over the population. You may use Python iteration over timesteps."
   ]
  },
  {
   "cell_type": "markdown",
   "metadata": {},
   "source": [
    "## Introduction\n",
    "\n",
    "Some degree of inequality might be acceptable if economic mobility were high, i.e. if everyone had similar chances of reaching either end of the wealth distribution. Economic mobility is often measured by splitting the population into five equal brackets, and measuring the chance of moving between brackets. From the [Wikipedia article on economic mobility](https://en.wikipedia.org/wiki/Economic_mobility):\n",
    "\n",
    "> in terms of relative mobility [a report](https://www.brookings.edu/research/economic-mobility-of-families-across-generations/) stated: \"contrary to American beliefs about\n",
    "> equality of opportunity, a child’s economic position is heavily influenced by that of his\n",
    "> or her parents.\" 42% of children born to parents in the bottom fifth of the income\n",
    "> distribution (\"quintile\") remain in the bottom, while 39% born to parents in the top fifth\n",
    "> remain at the top.\n",
    "\n",
    "Let's measure economic mobility by recording the wealth distribution at one timepoint, and again some number of timesteps later, splitting the two distributions into quintiles, and counting what fraction of the population moved by more than one quintile from beginning to end. (In each timestep a median individual might find their wealth increasing or decreasing by around 50%, so one timestep corresponds roughly to several years of human life.) For example, if we have a population of 5000 and we draw up a matrix $A$ where $A_{i j}$ is the number of people who start in quintile $i$ and end up in quintile $j$, we might get\n",
    "$$\n",
    "A = \\left( \\begin{matrix}\n",
    "344& 313& 243& 100&   0\\\\\n",
    "266& 261& 302& 167&   4\\\\\n",
    "212& 260& 225& 272&  31\\\\\n",
    "147& 143& 183& 331& 196\\\\\n",
    " 31&  23&  47& 130& 769\n",
    "\\end{matrix} \\right)\n",
    "$$\n",
    "(A quick check: the row sums and column sums are all 1000.) The number who moved by more than one quintile is 1148, which is 23% of the population."
   ]
  },
  {
   "cell_type": "markdown",
   "metadata": {},
   "source": [
    "**Question 6.** In a perfectly mobile economy, where everyone has equal chance of reaching any quintile, what fraction of people are expected to move by more than one quintile?\n",
    "```\n",
    "q = GRADER.fetch_question('q6')\n",
    "GRADER.submit_answer(q, your_answer)\n",
    "```"
   ]
  },
  {
   "cell_type": "markdown",
   "metadata": {},
   "source": [
    "**Question 7.** Write a function `mobility(v,w)` that returns the proportion of people who moved by more than one quintile, where `v[i]` and `w[i]` measure respectively the wealth of individual $i$ at the beginning and end of a time period. Hint: look up [`np.percentile`](https://docs.scipy.org/doc/numpy/reference/generated/numpy.percentile.html#numpy.percentile) and [`np.digitize`](https://docs.scipy.org/doc/numpy/reference/generated/numpy.digitize.html). \n",
    "```\n",
    "# Submitting your answer:\n",
    "q = GRADER.fetch_question('q7')\n",
    "v,w = np.arange(q.n)**q.a, np.arange(q.n)**q.a * np.random.random(q.n)\n",
    "GRADER.submit_answer(q, mobility(v,w))\n",
    "```"
   ]
  },
  {
   "cell_type": "markdown",
   "metadata": {},
   "source": [
    "**Question 8.** Simulate the kinetic exchange model from Assignment 2a long enough for it to stabilize; call this time $T$, and let the wealth vector be $w_T$. Run the model $t$ timesteps further to time $T+t$, find the wealth vector $w_{T+t}$, and compute $\\textsf{mobility}(w_T, w_{T+t})$. It's up to you to decide how to judge stabilization; you don't have to explain your method but you do have to submit a correct answer.\n",
    "```\n",
    "# Submitting your answer:\n",
    "q = GRADER.fetch_question('q8')\n",
    "# For a population size q.n, measure mobility over from time T to time T+q.t\n",
    "GRADER.submit_answer(q, your_answer)\n",
    "```"
   ]
  },
  {
   "cell_type": "markdown",
   "metadata": {},
   "source": [
    "**Question 9.** Plot the social mobility for a population of 500,000 as in Question 8, over a sequence of timesteps. To be precise, plot $\\textsf{mobility}(w_T, w_{T+t})$ on the $y$-axis and $t$ on the $x$-axis.\n",
    "(You don't have to submit your plot, but it may be assessed in the ticking session.) Your plot should look something like this:\n",
    "\n",
    "![mobility](res/ass2_q9.png)"
   ]
  },
  {
   "cell_type": "markdown",
   "metadata": {},
   "source": [
    "# Further investigation (not asssessed)<span id=\"ex2\"></span>\n",
    "\n",
    "These are open-ended further investigations of the wealth transfer model."
   ]
  },
  {
   "cell_type": "markdown",
   "metadata": {},
   "source": [
    "**Investigation 1.**\n",
    "In the kinetic exchange model, the poorest and the richest might swap places after just one transaction, which isn't very likely. Consider a different model for exchange. As before, suppose that two individuals with wealth $v$ and $w$ respectively are paired, but now let their wealth be updated by\n",
    "$$\n",
    "v_{\\text{new}} = v + R \\min(v,w),\n",
    "\\quad\n",
    "w_{\\text{new}} = w - R \\min(v,w)\n",
    "$$\n",
    "where $R$ is now a random number in $[-1,1]$, chosen independently for every pair at every timestep. The idea is that each party to the exchange puts up a certain amount of money, but no more than they can afford. Call this the _value transfer_ model.\n",
    "\n",
    "We can extend this model to include government intervention. Suppose the government charges a tax of say 20% on every exchange, collects all the tax revenue every timestep, and distributes it evenly to the entire population. This redistribution ought to have the effect of reducing inequality. Call this the _taxed value transfer_ model. Here is a concrete example, for a population of size 6.\n",
    "> 1. Initial wealth values are $[0,2,5,3,1,2]$\n",
    "> 1. We pair adjacent individuals: $[0,2; 5,3; 1,2]$\n",
    "> 1. Random exchange amounts pre-tax are $[0,0; 2.6,-2.6; -0.4,0.4]$\n",
    "> 1. Exchange amounts post-tax are $[0,0; 2.08,-2.6; -0.4,0.32]$\n",
    "> 1. Government revenue is $(2.6-2.08) + (0.4-0.32) = 0.6$\n",
    "> 1. Government redistributes $0.6/6=0.1$ to each person\n",
    "> 1. Change in wealth is $[0.1,0.1, 2.18,-2.5, -0.3,0.42]$.<br>\n",
    "> 1. New wealth vector is $[0.1, 2.1, 7.18, 0.5, 0.7, 2.42]$.\n",
    "\n",
    "Also, let's introduce another way to measure inequality. The Gini coefficient is unfamiliar to many people, and it's easier to communicate \"The richest 1% of the population own $x$% of the wealth.\"\n",
    "\n",
    "Implement the taxed value transfer model. Implement the \"top x%\" measure. Simulate the taxed value transfer model, and measure the Gini coefficient and the \"richest 1%\" statistic at each timestep. Plot these two measures, as a function of time, for tax rates 0%, 20% and 40%."
   ]
  },
  {
   "cell_type": "markdown",
   "metadata": {},
   "source": [
    "**Investigation 2.** \n",
    "Inflation means that wealth grows at an exponential rate, which is likely to exacerbate inequality. Compare a taxed value transfer model with tax rate 20% and no inflation, to a model with inflation of 3% per timestep. How much would tax have to increase, to compensate for this inflation?"
   ]
  },
  {
   "cell_type": "markdown",
   "metadata": {},
   "source": [
    "**Investigation 3.** The economist [Thomas Piketty argues](https://en.wikipedia.org/wiki/Capital_in_the_Twenty-First_Century) that we have entered an age where the return on capital is greater than the growth due to income, and that this leads to higher inequality. We could incorporate income into the model by assigning each individual $i$ a per-timestep income $g_i$, where the $g_i$ are randomly chosen _a priori_. If there were no exchange, then wealth would grow linearly, and so the Gini coefficient would remain equal to `gini(g)`. Investigate what happens when we combine income, inflation, and random exchange. How well correlated are income and wealth? Do you agree with Piketty?"
   ]
  }
 ],
 "metadata": {
  "kernelspec": {
   "display_name": "Python 3",
   "language": "python",
   "name": "python3"
  },
  "language_info": {
   "codemirror_mode": {
    "name": "ipython",
    "version": 3
   },
   "file_extension": ".py",
   "mimetype": "text/x-python",
   "name": "python",
   "nbconvert_exporter": "python",
   "pygments_lexer": "ipython3",
   "version": "3.6.9"
  }
 },
 "nbformat": 4,
 "nbformat_minor": 2
}
