{
 "cells": [
  {
   "cell_type": "markdown",
   "metadata": {},
   "source": [
    "<div class=\"alert alert-warning\">**Exercise (ex1).**\n",
    "Here is a function for finding the most frequent value in a vector:\n",
    "<pre style=\"background-color:inherit\">\n",
    "def mode(x):\n",
    "    # Remove any NaN values using because np.unique doesn't like NaN (see Section 3.6 for more on missing values)\n",
    "    vals,counts = np.unique(x[~pandas.isnull(x)], return_counts=True)\n",
    "    return vals[np.argmax(counts)]\n",
    "</pre>\n",
    "Generate a table showing the most frequent age range for each combination of ethnicity and gender, in the stop-and-search dataset.\n",
    "</div>"
   ]
  },
  {
   "cell_type": "markdown",
   "metadata": {},
   "source": [
    "<div class=\"alert alert-warning\">**Exercise (ex2).**\n",
    "Given the dataframe\n",
    "<pre style=\"background-color:inherit\">\n",
    "df = pandas.DataFrame({'A': [0,0,0,1,1,1], 'B': [0,1,2,0,1,2], 'X': range(6)})\n",
    "</pre>\n",
    "pretty-print an indexed array that has rows for A, columns for B, and shows values of X. <em>[Hint. Make sure your \n",
    "    <code style=\"background-color:inherit\">apply</code> function returns a simple Python value, not a Pandas column or dataframe.]</em>\n",
    "</div>"
   ]
  },
  {
   "cell_type": "markdown",
   "metadata": {},
   "source": [
    "<div class=\"alert alert-warning\">**Exercise (ex3).**\n",
    "    Use <code style=\"background-color:inherit\">merge</code> to produce a dataframe with one row per ethnic group, one column for the number of cases of \n",
    "    <code style=\"background-color:inherit\">outcome==find</code>, and one column for the number of cases\n",
    "    with \n",
    "    <code style=\"background-color:inherit\">outcome==nothing</code>.\n",
    "Use this table to compute the\n",
    "    <code style=\"background-color:inherit\">percent_find</code> column.\n",
    "</div>"
   ]
  },
  {
   "cell_type": "code",
   "execution_count": null,
   "metadata": {},
   "outputs": [],
   "source": []
  }
 ],
 "metadata": {
  "kernelspec": {
   "display_name": "Python 3",
   "language": "python",
   "name": "python3"
  },
  "language_info": {
   "codemirror_mode": {
    "name": "ipython",
    "version": 3
   },
   "file_extension": ".py",
   "mimetype": "text/x-python",
   "name": "python",
   "nbconvert_exporter": "python",
   "pygments_lexer": "ipython3",
   "version": "3.6.9"
  }
 },
 "nbformat": 4,
 "nbformat_minor": 2
}
